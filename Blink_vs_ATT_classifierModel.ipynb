{
  "nbformat": 4,
  "nbformat_minor": 0,
  "metadata": {
    "colab": {
      "name": "Red Neuronal Blink vs ATT.ipynb",
      "provenance": [],
      "collapsed_sections": []
    },
    "kernelspec": {
      "name": "python3",
      "display_name": "Python 3"
    },
    "language_info": {
      "name": "python"
    }
  },
  "cells": [
    {
      "cell_type": "code",
      "execution_count": null,
      "metadata": {
        "colab": {
          "base_uri": "https://localhost:8080/"
        },
        "id": "BBGc0LSOVd8V",
        "outputId": "c0d68df3-62be-4837-eebf-ff1df840da48"
      },
      "outputs": [
        {
          "output_type": "stream",
          "name": "stdout",
          "text": [
            "Drive already mounted at /content/drive; to attempt to forcibly remount, call drive.mount(\"/content/drive\", force_remount=True).\n"
          ]
        }
      ],
      "source": [
        "#import libraries\n",
        "import pandas as pd\n",
        "import numpy as np\n",
        "import matplotlib.pyplot as plt\n",
        "import pickle\n",
        "\n",
        "import sklearn\n",
        "from sklearn.neural_network import MLPClassifier\n",
        "from sklearn.model_selection import train_test_split\n",
        "from sklearn.metrics import classification_report,confusion_matrix\n",
        "from sklearn.model_selection import GridSearchCV\n",
        "\n",
        "from google.colab import drive\n",
        "drive.mount('/content/drive')"
      ]
    },
    {
      "cell_type": "code",
      "source": [
        "# upload data raw\n",
        "ATT_raw = pd.read_csv('/content/drive/MyDrive/Resultados_ATT/02593601Y.csv')\n",
        "ATT_raw = ATT_raw.rename(columns={'Frame_ATT': 'Frame'})\n",
        "Blink_raw = pd.read_csv('/content/drive/MyDrive/Resultados_Blink/02593601Y.csv')"
      ],
      "metadata": {
        "id": "sTTKlzBqWQzn"
      },
      "execution_count": null,
      "outputs": []
    },
    {
      "cell_type": "code",
      "source": [
        "# create dataset to train\n",
        "df = Blink_raw.combine_first(ATT_raw)\n",
        "df = df[['Frame', 'Eye_blink_strength', 'ATT']]"
      ],
      "metadata": {
        "id": "GdiloycbXBRA"
      },
      "execution_count": null,
      "outputs": []
    },
    {
      "cell_type": "code",
      "source": [
        "df.shape"
      ],
      "metadata": {
        "colab": {
          "base_uri": "https://localhost:8080/"
        },
        "id": "GJMLQATphHdH",
        "outputId": "9949f00b-9752-43f5-c560-f193859b935f"
      },
      "execution_count": null,
      "outputs": [
        {
          "output_type": "execute_result",
          "data": {
            "text/plain": [
              "(85280, 3)"
            ]
          },
          "metadata": {},
          "execution_count": 4
        }
      ]
    },
    {
      "cell_type": "code",
      "source": [
        "# calculate percentiles of ATT values in order to classify them as Low, med and high attention\n",
        "ATT_25 = np.percentile(df['ATT'], 25)\n",
        "ATT_50 = np.percentile(df['ATT'], 50)\n",
        "ATT_75 = np.percentile(df['ATT'], 75)\n",
        "ATT_max = np.max(df['ATT'])\n",
        "\n",
        "print(f'ATT 25%: {ATT_25}')\n",
        "print(f'ATT 50%: {ATT_50}')\n",
        "print(f'ATT 75%: {ATT_75}')\n",
        "print(f'ATT MAX: {ATT_max}')\n",
        "\n",
        "# Blink_25 = np.percentile(df['Eye_blink_strength'], 25)\n",
        "# Blink_50 = np.percentile(df['Eye_blink_strength'], 50)\n",
        "# Blink_75 = np.percentile(df['Eye_blink_strength'], 75)"
      ],
      "metadata": {
        "colab": {
          "base_uri": "https://localhost:8080/"
        },
        "id": "84O0y6eVZmqp",
        "outputId": "5d88fffa-98ac-493a-b3e0-e51567a8be52"
      },
      "execution_count": null,
      "outputs": [
        {
          "output_type": "stream",
          "name": "stdout",
          "text": [
            "ATT 25%: 35.0\n",
            "ATT 50%: 48.0\n",
            "ATT 75%: 64.0\n",
            "ATT MAX: 100\n"
          ]
        }
      ]
    },
    {
      "cell_type": "code",
      "source": [
        "# Functions to set target column\n",
        "def f(row):\n",
        "    if row['ATT'] <= ATT_25:\n",
        "        val = -1\n",
        "    elif row['ATT'] > ATT_25 and row['ATT'] < ATT_75:\n",
        "        val = 0\n",
        "    else:\n",
        "        val = 1\n",
        "    return val\n",
        "\n",
        "def s(row):\n",
        "    if row['ATT'] <= ATT_25:\n",
        "        val = 'Baja'\n",
        "    elif row['ATT'] > ATT_25 and row['ATT'] < ATT_75:\n",
        "        val = 'Media'\n",
        "    else:\n",
        "        val = 'Alta'\n",
        "    return val"
      ],
      "metadata": {
        "id": "hoFBNGfmk-C9"
      },
      "execution_count": null,
      "outputs": []
    },
    {
      "cell_type": "code",
      "source": [
        "# create two new columns: Target and Target Str\n",
        "df['Target'] = df.apply(f, axis=1)\n",
        "df['Target Str'] = df.apply(s, axis=1)\n",
        "df.Target.unique()"
      ],
      "metadata": {
        "colab": {
          "base_uri": "https://localhost:8080/"
        },
        "id": "EtuBwWL9amBL",
        "outputId": "5abaaec5-77d7-4c4a-d835-561acef0c2a8"
      },
      "execution_count": null,
      "outputs": [
        {
          "output_type": "execute_result",
          "data": {
            "text/plain": [
              "array([ 0, -1,  1])"
            ]
          },
          "metadata": {},
          "execution_count": 7
        }
      ]
    },
    {
      "cell_type": "code",
      "source": [
        "baja_count=df['Target'][df['Target']==-1].count()\n",
        "media_count=df['Target'][df['Target']==0].count()\n",
        "alta_count =df['Target'][df['Target']==1].count()\n",
        "\n",
        "print(f'frames baja atención: {baja_count}')\n",
        "print(f'frames media atención: {media_count}')\n",
        "print(f'frames alta atención:{alta_count}')"
      ],
      "metadata": {
        "colab": {
          "base_uri": "https://localhost:8080/"
        },
        "id": "uCOEopVtevtQ",
        "outputId": "7a387e1d-e07e-42bd-8195-1cec150fe8ab"
      },
      "execution_count": null,
      "outputs": [
        {
          "output_type": "stream",
          "name": "stdout",
          "text": [
            "frames baja atención: 23136\n",
            "frames media atención: 40650\n",
            "frames alta atención:21494\n"
          ]
        }
      ]
    },
    {
      "cell_type": "code",
      "source": [
        "df_sampled = df.sample(n=1000)\n",
        "\n",
        "target = [baja_count, media_count, alta_count]\n",
        "target_str = ['baja', 'media', 'alta']\n",
        "\n",
        "plt.bar(target_str, target)\n",
        " \n",
        "# Show Plot\n",
        "plt.show()"
      ],
      "metadata": {
        "colab": {
          "base_uri": "https://localhost:8080/",
          "height": 265
        },
        "id": "E2eQWC6PbIsx",
        "outputId": "2d7f1f15-2305-4c23-9834-1747e50519ec"
      },
      "execution_count": null,
      "outputs": [
        {
          "output_type": "display_data",
          "data": {
            "text/plain": [
              "<Figure size 432x288 with 1 Axes>"
            ],
            "image/png": "[encoded data removed]"
          },
          "metadata": {
            "needs_background": "light"
          }
        }
      ]
    },
    {
      "cell_type": "code",
      "source": [
        "df['Eye_blink_strength'].isnull().values.any()"
      ],
      "metadata": {
        "colab": {
          "base_uri": "https://localhost:8080/"
        },
        "id": "c9xz66Mhq-nA",
        "outputId": "465be0bb-d116-470f-cab7-883978bebea5"
      },
      "execution_count": null,
      "outputs": [
        {
          "output_type": "execute_result",
          "data": {
            "text/plain": [
              "True"
            ]
          },
          "metadata": {},
          "execution_count": 31
        }
      ]
    },
    {
      "cell_type": "code",
      "source": [
        "df = df.dropna()"
      ],
      "metadata": {
        "id": "LFRg8yR6sUPX"
      },
      "execution_count": null,
      "outputs": []
    },
    {
      "cell_type": "code",
      "source": [
        "df['Eye_blink_strength'].isnull().values.any()"
      ],
      "metadata": {
        "colab": {
          "base_uri": "https://localhost:8080/"
        },
        "id": "RU5Ng5dMsXKe",
        "outputId": "ce3971da-833a-4e9c-925a-dbfdfdb1e06e"
      },
      "execution_count": null,
      "outputs": [
        {
          "output_type": "execute_result",
          "data": {
            "text/plain": [
              "False"
            ]
          },
          "metadata": {},
          "execution_count": 33
        }
      ]
    },
    {
      "cell_type": "code",
      "source": [
        "# Split dataset in 80% train and 20% test\n",
        "X = df[['Eye_blink_strength','ATT']].values\n",
        "y = df['Target'].values\n",
        "X_train, X_test, y_train, y_test = train_test_split(X, y, test_size=0.20, random_state=40)\n",
        "print(X_train.shape); \n",
        "print(X_test.shape)"
      ],
      "metadata": {
        "colab": {
          "base_uri": "https://localhost:8080/"
        },
        "id": "yNoe_WmqqWRZ",
        "outputId": "de0bdf88-57a3-4d27-9574-7764ecd51141"
      },
      "execution_count": null,
      "outputs": [
        {
          "output_type": "stream",
          "name": "stdout",
          "text": [
            "(66483, 2)\n",
            "(16621, 2)\n"
          ]
        }
      ]
    },
    {
      "cell_type": "code",
      "source": [
        "# build neural network by using Multi-layer Perceptron classifier (scikitLearn)\n",
        "# learn more about MLP model: https://scikit-learn.org/stable/modules/neural_networks_supervised.html\n",
        "mlp = MLPClassifier(hidden_layer_sizes=(3,3,3), # 3 hidden layers \n",
        "                    activation='relu', \n",
        "                    solver='adam', \n",
        "                    max_iter=100, \n",
        "                    learning_rate_init=0.001, \n",
        "                    verbose=True,\n",
        "                    alpha=0.01) #adjust alpha in order to avoid overfitting (0.0001 by default)\n",
        "mlp.fit(X_train,y_train) # Train model\n"
      ],
      "metadata": {
        "colab": {
          "base_uri": "https://localhost:8080/"
        },
        "id": "yDf4b2osr03t",
        "outputId": "2cdd18b4-a904-4577-afad-6a7f1da429a7"
      },
      "execution_count": null,
      "outputs": [
        {
          "output_type": "stream",
          "name": "stdout",
          "text": [
            "Iteration 1, loss = 1.06638367\n",
            "Iteration 2, loss = 0.82301259\n",
            "Iteration 3, loss = 0.70133447\n",
            "Iteration 4, loss = 0.55957712\n",
            "Iteration 5, loss = 0.50215475\n",
            "Iteration 6, loss = 0.46687652\n",
            "Iteration 7, loss = 0.43931988\n",
            "Iteration 8, loss = 0.41697327\n",
            "Iteration 9, loss = 0.39730275\n",
            "Iteration 10, loss = 0.37913776\n",
            "Iteration 11, loss = 0.36247492\n",
            "Iteration 12, loss = 0.34770703\n",
            "Iteration 13, loss = 0.33380373\n",
            "Iteration 14, loss = 0.31569825\n",
            "Iteration 15, loss = 0.29619404\n",
            "Iteration 16, loss = 0.27694484\n",
            "Iteration 17, loss = 0.25572121\n",
            "Iteration 18, loss = 0.23384491\n",
            "Iteration 19, loss = 0.21432780\n",
            "Iteration 20, loss = 0.19747040\n",
            "Iteration 21, loss = 0.18442832\n",
            "Iteration 22, loss = 0.17294535\n",
            "Iteration 23, loss = 0.16417923\n",
            "Iteration 24, loss = 0.15580941\n",
            "Iteration 25, loss = 0.14816081\n",
            "Iteration 26, loss = 0.13952581\n",
            "Iteration 27, loss = 0.13192145\n",
            "Iteration 28, loss = 0.12500642\n",
            "Iteration 29, loss = 0.11818808\n",
            "Iteration 30, loss = 0.11269089\n",
            "Iteration 31, loss = 0.10755661\n",
            "Iteration 32, loss = 0.10281706\n",
            "Iteration 33, loss = 0.09844660\n",
            "Iteration 34, loss = 0.09492863\n",
            "Iteration 35, loss = 0.09201082\n",
            "Iteration 36, loss = 0.08892322\n",
            "Iteration 37, loss = 0.08559092\n",
            "Iteration 38, loss = 0.08295224\n",
            "Iteration 39, loss = 0.08057978\n",
            "Iteration 40, loss = 0.07863171\n",
            "Iteration 41, loss = 0.07654580\n",
            "Iteration 42, loss = 0.07482973\n",
            "Iteration 43, loss = 0.07307792\n",
            "Iteration 44, loss = 0.07197422\n",
            "Iteration 45, loss = 0.06995315\n",
            "Iteration 46, loss = 0.06844487\n",
            "Iteration 47, loss = 0.06707175\n",
            "Iteration 48, loss = 0.06579166\n",
            "Iteration 49, loss = 0.06491578\n",
            "Iteration 50, loss = 0.06360801\n",
            "Iteration 51, loss = 0.06250790\n",
            "Iteration 52, loss = 0.06186183\n",
            "Iteration 53, loss = 0.06060180\n",
            "Iteration 54, loss = 0.06002530\n",
            "Iteration 55, loss = 0.05888215\n",
            "Iteration 56, loss = 0.05799603\n",
            "Iteration 57, loss = 0.05730303\n",
            "Iteration 58, loss = 0.05689043\n",
            "Iteration 59, loss = 0.05600996\n",
            "Iteration 60, loss = 0.05553684\n",
            "Iteration 61, loss = 0.05483632\n",
            "Iteration 62, loss = 0.05407741\n",
            "Iteration 63, loss = 0.05341826\n",
            "Iteration 64, loss = 0.05289855\n",
            "Iteration 65, loss = 0.05240959\n",
            "Iteration 66, loss = 0.05250826\n",
            "Iteration 67, loss = 0.05156671\n",
            "Iteration 68, loss = 0.05111159\n",
            "Iteration 69, loss = 0.05055158\n",
            "Iteration 70, loss = 0.05023742\n",
            "Iteration 71, loss = 0.04966000\n",
            "Iteration 72, loss = 0.04939225\n",
            "Iteration 73, loss = 0.04891217\n",
            "Iteration 74, loss = 0.04857367\n",
            "Iteration 75, loss = 0.04829649\n",
            "Iteration 76, loss = 0.04805080\n",
            "Iteration 77, loss = 0.04772004\n",
            "Iteration 78, loss = 0.04717174\n",
            "Iteration 79, loss = 0.04684098\n",
            "Iteration 80, loss = 0.04677188\n",
            "Iteration 81, loss = 0.04619708\n",
            "Iteration 82, loss = 0.04576798\n",
            "Iteration 83, loss = 0.04564072\n",
            "Iteration 84, loss = 0.04515045\n",
            "Iteration 85, loss = 0.04484461\n",
            "Iteration 86, loss = 0.04462727\n",
            "Iteration 87, loss = 0.04486748\n",
            "Iteration 88, loss = 0.04403456\n",
            "Iteration 89, loss = 0.04393366\n",
            "Iteration 90, loss = 0.04361091\n",
            "Iteration 91, loss = 0.04351973\n",
            "Iteration 92, loss = 0.04319743\n",
            "Iteration 93, loss = 0.04291899\n",
            "Iteration 94, loss = 0.04280293\n",
            "Iteration 95, loss = 0.04264864\n",
            "Iteration 96, loss = 0.04214586\n",
            "Iteration 97, loss = 0.04214313\n",
            "Iteration 98, loss = 0.04190259\n",
            "Iteration 99, loss = 0.04152052\n",
            "Iteration 100, loss = 0.04154045\n"
          ]
        },
        {
          "output_type": "stream",
          "name": "stderr",
          "text": [
            "/usr/local/lib/python3.7/dist-packages/sklearn/neural_network/_multilayer_perceptron.py:696: ConvergenceWarning: Stochastic Optimizer: Maximum iterations (100) reached and the optimization hasn't converged yet.\n",
            "  ConvergenceWarning,\n"
          ]
        },
        {
          "output_type": "execute_result",
          "data": {
            "text/plain": [
              "MLPClassifier(alpha=0.01, hidden_layer_sizes=(3, 3, 3), max_iter=100,\n",
              "              verbose=True)"
            ]
          },
          "metadata": {},
          "execution_count": 35
        }
      ]
    },
    {
      "cell_type": "code",
      "source": [
        "# plot loss curve of training process\n",
        "font_dict_title = {'family':'arial',\n",
        "              'size':16,\n",
        "              'weight':'bold',\n",
        "              'color':'darkblue'\n",
        "            }\n",
        "\n",
        "font_dict_axis = {'family':'arial',\n",
        "              'size':13,\n",
        "              'weight':'bold',\n",
        "            }\n",
        "\n",
        "def plot_loss(model, font_title, font_axis, size):\n",
        "  plt.figure(figsize=size)\n",
        "  plt.plot(model.loss_curve_)\n",
        "  plt.title('LOSS CURVE', fontdict=font_title)\n",
        "  plt.xlabel('Iteration', fontdict=font_axis)\n",
        "  plt.ylabel('Loss Value', fontdict=font_axis)\n",
        "  return plt.show()\n",
        "\n",
        "plot_loss(mlp, \n",
        "          font_title=font_dict_title, \n",
        "          font_axis=font_dict_axis, \n",
        "          size=(10,7))  "
      ],
      "metadata": {
        "colab": {
          "base_uri": "https://localhost:8080/",
          "height": 498
        },
        "id": "axhPZblNvSDT",
        "outputId": "17d09e90-e417-49c5-cf85-94721b42840d"
      },
      "execution_count": null,
      "outputs": [
        {
          "output_type": "stream",
          "name": "stderr",
          "text": [
            "findfont: Font family ['arial'] not found. Falling back to DejaVu Sans.\n",
            "findfont: Font family ['arial'] not found. Falling back to DejaVu Sans.\n"
          ]
        },
        {
          "output_type": "display_data",
          "data": {
            "text/plain": [
              "<Figure size 720x504 with 1 Axes>"
            ],
            "image/png": "[encoded data removed]"
          },
          "metadata": {
            "needs_background": "light"
          }
        }
      ]
    },
    {
      "cell_type": "code",
      "source": [
        "# Validate model\n",
        "predict_train = mlp.predict(X_train)\n",
        "predict_test = mlp.predict(X_test)"
      ],
      "metadata": {
        "id": "9cBWIDIPr5Aj"
      },
      "execution_count": null,
      "outputs": []
    },
    {
      "cell_type": "code",
      "source": [
        "# See classification report for train: precision, recall, f1-score, suppor, accuracy, etc.\n",
        "print(classification_report(y_train,predict_train))"
      ],
      "metadata": {
        "colab": {
          "base_uri": "https://localhost:8080/"
        },
        "id": "teTpRKKLsS6n",
        "outputId": "2e8ed1da-e41a-4b0d-c374-f11c710f7186"
      },
      "execution_count": null,
      "outputs": [
        {
          "output_type": "stream",
          "name": "stdout",
          "text": [
            "              precision    recall  f1-score   support\n",
            "\n",
            "          -1       1.00      1.00      1.00     18539\n",
            "           0       0.99      1.00      0.99     31956\n",
            "           1       0.99      0.98      0.99     15988\n",
            "\n",
            "    accuracy                           0.99     66483\n",
            "   macro avg       0.99      0.99      0.99     66483\n",
            "weighted avg       0.99      0.99      0.99     66483\n",
            "\n"
          ]
        }
      ]
    },
    {
      "cell_type": "code",
      "source": [
        "# See classification report for test: precision, recall, f1-score, suppor, accuracy, etc.\n",
        "print(classification_report(y_test,predict_test))"
      ],
      "metadata": {
        "colab": {
          "base_uri": "https://localhost:8080/"
        },
        "id": "DVQgBKpUtbfs",
        "outputId": "27aa81ec-9198-41ac-bf0a-3f6837f261de"
      },
      "execution_count": null,
      "outputs": [
        {
          "output_type": "stream",
          "name": "stdout",
          "text": [
            "              precision    recall  f1-score   support\n",
            "\n",
            "          -1       1.00      1.00      1.00      4597\n",
            "           0       0.99      1.00      0.99      7996\n",
            "           1       0.99      0.98      0.99      4028\n",
            "\n",
            "    accuracy                           0.99     16621\n",
            "   macro avg       0.99      0.99      0.99     16621\n",
            "weighted avg       0.99      0.99      0.99     16621\n",
            "\n"
          ]
        }
      ]
    },
    {
      "cell_type": "code",
      "source": [
        "# adjust the hyperparameters of MLP classifier to get more perfect performance (avoid overfitting)\n",
        "mlp_hyper = MLPClassifier(max_iter=10)\n",
        "parameter_space = {\n",
        "    'hidden_layer_sizes': [(3,3,3), (8,8,8), (10,10,10)],\n",
        "    'activation': ['tanh', 'relu'],\n",
        "    'solver': ['sgd', 'adam'],\n",
        "    'alpha': [0.01, 0.05],\n",
        "    'learning_rate': ['constant','adaptive'],\n",
        "}\n"
      ],
      "metadata": {
        "id": "EFuHXugoNWis"
      },
      "execution_count": null,
      "outputs": []
    },
    {
      "cell_type": "code",
      "source": [
        "# GridSearch method (cross validation)\n",
        "clf = GridSearchCV(mlp_hyper, parameter_space, n_jobs=-1, cv=3)\n",
        "clf.fit(X_train,y_train)"
      ],
      "metadata": {
        "colab": {
          "base_uri": "https://localhost:8080/"
        },
        "id": "xd5A9BP1Og7W",
        "outputId": "f1955f13-c8d2-4332-fe7b-7b59295cf84e"
      },
      "execution_count": null,
      "outputs": [
        {
          "output_type": "stream",
          "name": "stderr",
          "text": [
            "/usr/local/lib/python3.7/dist-packages/sklearn/neural_network/_multilayer_perceptron.py:696: ConvergenceWarning: Stochastic Optimizer: Maximum iterations (10) reached and the optimization hasn't converged yet.\n",
            "  ConvergenceWarning,\n"
          ]
        },
        {
          "output_type": "execute_result",
          "data": {
            "text/plain": [
              "GridSearchCV(cv=3, estimator=MLPClassifier(max_iter=10), n_jobs=-1,\n",
              "             param_grid={'activation': ['tanh', 'relu'], 'alpha': [0.01, 0.05],\n",
              "                         'hidden_layer_sizes': [(3, 3, 3), (8, 8, 8),\n",
              "                                                (10, 10, 10)],\n",
              "                         'learning_rate': ['constant', 'adaptive'],\n",
              "                         'solver': ['sgd', 'adam']})"
            ]
          },
          "metadata": {},
          "execution_count": 41
        }
      ]
    },
    {
      "cell_type": "code",
      "source": [
        "# Best paramete set\n",
        "print('Best parameters found:\\n', clf.best_params_)"
      ],
      "metadata": {
        "colab": {
          "base_uri": "https://localhost:8080/"
        },
        "id": "hjDo50P_Oxtz",
        "outputId": "d37865e2-524f-484d-c5ae-0fd3c5198981"
      },
      "execution_count": null,
      "outputs": [
        {
          "output_type": "stream",
          "name": "stdout",
          "text": [
            "Best parameters found:\n",
            " {'activation': 'tanh', 'alpha': 0.01, 'hidden_layer_sizes': (10, 10, 10), 'learning_rate': 'constant', 'solver': 'adam'}\n"
          ]
        }
      ]
    },
    {
      "cell_type": "code",
      "source": [
        "# All results\n",
        "means = clf.cv_results_['mean_test_score']\n",
        "stds = clf.cv_results_['std_test_score']\n",
        "for mean, std, params in zip(means, stds, clf.cv_results_['params']):\n",
        "    print(\"%0.3f (+/-%0.03f) for %r\" % (mean, std * 2, params))"
      ],
      "metadata": {
        "colab": {
          "base_uri": "https://localhost:8080/"
        },
        "id": "IFJ70Rp5stEv",
        "outputId": "0ded4e95-0a9c-48d8-e8a5-cde6d73dfa0e"
      },
      "execution_count": null,
      "outputs": [
        {
          "output_type": "stream",
          "name": "stdout",
          "text": [
            "0.625 (+/-0.204) for {'activation': 'tanh', 'alpha': 0.01, 'hidden_layer_sizes': (3, 3, 3), 'learning_rate': 'constant', 'solver': 'sgd'}\n",
            "0.925 (+/-0.109) for {'activation': 'tanh', 'alpha': 0.01, 'hidden_layer_sizes': (3, 3, 3), 'learning_rate': 'constant', 'solver': 'adam'}\n",
            "0.668 (+/-0.289) for {'activation': 'tanh', 'alpha': 0.01, 'hidden_layer_sizes': (3, 3, 3), 'learning_rate': 'adaptive', 'solver': 'sgd'}\n",
            "0.840 (+/-0.012) for {'activation': 'tanh', 'alpha': 0.01, 'hidden_layer_sizes': (3, 3, 3), 'learning_rate': 'adaptive', 'solver': 'adam'}\n",
            "0.838 (+/-0.003) for {'activation': 'tanh', 'alpha': 0.01, 'hidden_layer_sizes': (8, 8, 8), 'learning_rate': 'constant', 'solver': 'sgd'}\n",
            "0.971 (+/-0.031) for {'activation': 'tanh', 'alpha': 0.01, 'hidden_layer_sizes': (8, 8, 8), 'learning_rate': 'constant', 'solver': 'adam'}\n",
            "0.833 (+/-0.001) for {'activation': 'tanh', 'alpha': 0.01, 'hidden_layer_sizes': (8, 8, 8), 'learning_rate': 'adaptive', 'solver': 'sgd'}\n",
            "0.978 (+/-0.021) for {'activation': 'tanh', 'alpha': 0.01, 'hidden_layer_sizes': (8, 8, 8), 'learning_rate': 'adaptive', 'solver': 'adam'}\n",
            "0.831 (+/-0.020) for {'activation': 'tanh', 'alpha': 0.01, 'hidden_layer_sizes': (10, 10, 10), 'learning_rate': 'constant', 'solver': 'sgd'}\n",
            "0.978 (+/-0.013) for {'activation': 'tanh', 'alpha': 0.01, 'hidden_layer_sizes': (10, 10, 10), 'learning_rate': 'constant', 'solver': 'adam'}\n",
            "0.839 (+/-0.005) for {'activation': 'tanh', 'alpha': 0.01, 'hidden_layer_sizes': (10, 10, 10), 'learning_rate': 'adaptive', 'solver': 'sgd'}\n",
            "0.977 (+/-0.011) for {'activation': 'tanh', 'alpha': 0.01, 'hidden_layer_sizes': (10, 10, 10), 'learning_rate': 'adaptive', 'solver': 'adam'}\n",
            "0.648 (+/-0.106) for {'activation': 'tanh', 'alpha': 0.05, 'hidden_layer_sizes': (3, 3, 3), 'learning_rate': 'constant', 'solver': 'sgd'}\n",
            "0.900 (+/-0.087) for {'activation': 'tanh', 'alpha': 0.05, 'hidden_layer_sizes': (3, 3, 3), 'learning_rate': 'constant', 'solver': 'adam'}\n",
            "0.618 (+/-0.194) for {'activation': 'tanh', 'alpha': 0.05, 'hidden_layer_sizes': (3, 3, 3), 'learning_rate': 'adaptive', 'solver': 'sgd'}\n",
            "0.895 (+/-0.078) for {'activation': 'tanh', 'alpha': 0.05, 'hidden_layer_sizes': (3, 3, 3), 'learning_rate': 'adaptive', 'solver': 'adam'}\n",
            "0.785 (+/-0.138) for {'activation': 'tanh', 'alpha': 0.05, 'hidden_layer_sizes': (8, 8, 8), 'learning_rate': 'constant', 'solver': 'sgd'}\n",
            "0.936 (+/-0.056) for {'activation': 'tanh', 'alpha': 0.05, 'hidden_layer_sizes': (8, 8, 8), 'learning_rate': 'constant', 'solver': 'adam'}\n",
            "0.768 (+/-0.123) for {'activation': 'tanh', 'alpha': 0.05, 'hidden_layer_sizes': (8, 8, 8), 'learning_rate': 'adaptive', 'solver': 'sgd'}\n",
            "0.965 (+/-0.055) for {'activation': 'tanh', 'alpha': 0.05, 'hidden_layer_sizes': (8, 8, 8), 'learning_rate': 'adaptive', 'solver': 'adam'}\n",
            "0.837 (+/-0.003) for {'activation': 'tanh', 'alpha': 0.05, 'hidden_layer_sizes': (10, 10, 10), 'learning_rate': 'constant', 'solver': 'sgd'}\n",
            "0.958 (+/-0.051) for {'activation': 'tanh', 'alpha': 0.05, 'hidden_layer_sizes': (10, 10, 10), 'learning_rate': 'constant', 'solver': 'adam'}\n",
            "0.826 (+/-0.041) for {'activation': 'tanh', 'alpha': 0.05, 'hidden_layer_sizes': (10, 10, 10), 'learning_rate': 'adaptive', 'solver': 'sgd'}\n",
            "0.969 (+/-0.027) for {'activation': 'tanh', 'alpha': 0.05, 'hidden_layer_sizes': (10, 10, 10), 'learning_rate': 'adaptive', 'solver': 'adam'}\n",
            "0.893 (+/-0.012) for {'activation': 'relu', 'alpha': 0.01, 'hidden_layer_sizes': (3, 3, 3), 'learning_rate': 'constant', 'solver': 'sgd'}\n",
            "0.857 (+/-0.077) for {'activation': 'relu', 'alpha': 0.01, 'hidden_layer_sizes': (3, 3, 3), 'learning_rate': 'constant', 'solver': 'adam'}\n",
            "0.707 (+/-0.338) for {'activation': 'relu', 'alpha': 0.01, 'hidden_layer_sizes': (3, 3, 3), 'learning_rate': 'adaptive', 'solver': 'sgd'}\n",
            "0.778 (+/-0.427) for {'activation': 'relu', 'alpha': 0.01, 'hidden_layer_sizes': (3, 3, 3), 'learning_rate': 'adaptive', 'solver': 'adam'}\n",
            "0.850 (+/-0.013) for {'activation': 'relu', 'alpha': 0.01, 'hidden_layer_sizes': (8, 8, 8), 'learning_rate': 'constant', 'solver': 'sgd'}\n",
            "0.925 (+/-0.088) for {'activation': 'relu', 'alpha': 0.01, 'hidden_layer_sizes': (8, 8, 8), 'learning_rate': 'constant', 'solver': 'adam'}\n",
            "0.852 (+/-0.015) for {'activation': 'relu', 'alpha': 0.01, 'hidden_layer_sizes': (8, 8, 8), 'learning_rate': 'adaptive', 'solver': 'sgd'}\n",
            "0.930 (+/-0.073) for {'activation': 'relu', 'alpha': 0.01, 'hidden_layer_sizes': (8, 8, 8), 'learning_rate': 'adaptive', 'solver': 'adam'}\n",
            "0.860 (+/-0.046) for {'activation': 'relu', 'alpha': 0.01, 'hidden_layer_sizes': (10, 10, 10), 'learning_rate': 'constant', 'solver': 'sgd'}\n",
            "0.921 (+/-0.020) for {'activation': 'relu', 'alpha': 0.01, 'hidden_layer_sizes': (10, 10, 10), 'learning_rate': 'constant', 'solver': 'adam'}\n",
            "0.860 (+/-0.017) for {'activation': 'relu', 'alpha': 0.01, 'hidden_layer_sizes': (10, 10, 10), 'learning_rate': 'adaptive', 'solver': 'sgd'}\n",
            "0.973 (+/-0.014) for {'activation': 'relu', 'alpha': 0.01, 'hidden_layer_sizes': (10, 10, 10), 'learning_rate': 'adaptive', 'solver': 'adam'}\n",
            "0.695 (+/-0.306) for {'activation': 'relu', 'alpha': 0.05, 'hidden_layer_sizes': (3, 3, 3), 'learning_rate': 'constant', 'solver': 'sgd'}\n",
            "0.918 (+/-0.026) for {'activation': 'relu', 'alpha': 0.05, 'hidden_layer_sizes': (3, 3, 3), 'learning_rate': 'constant', 'solver': 'adam'}\n",
            "0.481 (+/-0.000) for {'activation': 'relu', 'alpha': 0.05, 'hidden_layer_sizes': (3, 3, 3), 'learning_rate': 'adaptive', 'solver': 'sgd'}\n",
            "0.708 (+/-0.280) for {'activation': 'relu', 'alpha': 0.05, 'hidden_layer_sizes': (3, 3, 3), 'learning_rate': 'adaptive', 'solver': 'adam'}\n",
            "0.852 (+/-0.021) for {'activation': 'relu', 'alpha': 0.05, 'hidden_layer_sizes': (8, 8, 8), 'learning_rate': 'constant', 'solver': 'sgd'}\n",
            "0.941 (+/-0.018) for {'activation': 'relu', 'alpha': 0.05, 'hidden_layer_sizes': (8, 8, 8), 'learning_rate': 'constant', 'solver': 'adam'}\n",
            "0.767 (+/-0.193) for {'activation': 'relu', 'alpha': 0.05, 'hidden_layer_sizes': (8, 8, 8), 'learning_rate': 'adaptive', 'solver': 'sgd'}\n",
            "0.916 (+/-0.065) for {'activation': 'relu', 'alpha': 0.05, 'hidden_layer_sizes': (8, 8, 8), 'learning_rate': 'adaptive', 'solver': 'adam'}\n",
            "0.867 (+/-0.024) for {'activation': 'relu', 'alpha': 0.05, 'hidden_layer_sizes': (10, 10, 10), 'learning_rate': 'constant', 'solver': 'sgd'}\n",
            "0.948 (+/-0.083) for {'activation': 'relu', 'alpha': 0.05, 'hidden_layer_sizes': (10, 10, 10), 'learning_rate': 'constant', 'solver': 'adam'}\n",
            "0.729 (+/-0.351) for {'activation': 'relu', 'alpha': 0.05, 'hidden_layer_sizes': (10, 10, 10), 'learning_rate': 'adaptive', 'solver': 'sgd'}\n",
            "0.925 (+/-0.068) for {'activation': 'relu', 'alpha': 0.05, 'hidden_layer_sizes': (10, 10, 10), 'learning_rate': 'adaptive', 'solver': 'adam'}\n"
          ]
        }
      ]
    },
    {
      "cell_type": "code",
      "source": [
        "mlp_2 = MLPClassifier(hidden_layer_sizes=(10,10,10), # 3 hidden layers \n",
        "                    activation='tanh', \n",
        "                    solver='adam', \n",
        "                    max_iter=100, \n",
        "                    learning_rate='constant', \n",
        "                    verbose=True,\n",
        "                    alpha=0.01) #adjust alpha in order to avoid overfitting (0.0001 by default)\n",
        "mlp_2.fit(X_train,y_train) # Train model"
      ],
      "metadata": {
        "colab": {
          "base_uri": "https://localhost:8080/"
        },
        "id": "4WvhCFLJZSx5",
        "outputId": "59182ad7-c547-45be-c147-eda0c2c46e7a"
      },
      "execution_count": null,
      "outputs": [
        {
          "output_type": "stream",
          "name": "stdout",
          "text": [
            "Iteration 1, loss = 0.58181890\n",
            "Iteration 2, loss = 0.34887371\n",
            "Iteration 3, loss = 0.21886812\n",
            "Iteration 4, loss = 0.12147632\n",
            "Iteration 5, loss = 0.08708457\n",
            "Iteration 6, loss = 0.07246217\n",
            "Iteration 7, loss = 0.05946655\n",
            "Iteration 8, loss = 0.06232345\n",
            "Iteration 9, loss = 0.04639437\n",
            "Iteration 10, loss = 0.04104684\n",
            "Iteration 11, loss = 0.04719064\n",
            "Iteration 12, loss = 0.04164618\n",
            "Iteration 13, loss = 0.04069438\n",
            "Iteration 14, loss = 0.03857876\n",
            "Iteration 15, loss = 0.03518495\n",
            "Iteration 16, loss = 0.03073841\n",
            "Iteration 17, loss = 0.03601794\n",
            "Iteration 18, loss = 0.03172768\n",
            "Iteration 19, loss = 0.02856873\n",
            "Iteration 20, loss = 0.03508640\n",
            "Iteration 21, loss = 0.03233227\n",
            "Iteration 22, loss = 0.02641674\n",
            "Iteration 23, loss = 0.02725090\n",
            "Iteration 24, loss = 0.03588957\n",
            "Iteration 25, loss = 0.02583111\n",
            "Iteration 26, loss = 0.02445952\n",
            "Iteration 27, loss = 0.02811929\n",
            "Iteration 28, loss = 0.03259142\n",
            "Iteration 29, loss = 0.02863776\n",
            "Iteration 30, loss = 0.02831568\n",
            "Iteration 31, loss = 0.02976099\n",
            "Iteration 32, loss = 0.02662143\n",
            "Iteration 33, loss = 0.02438585\n",
            "Iteration 34, loss = 0.03246091\n",
            "Iteration 35, loss = 0.02809414\n",
            "Iteration 36, loss = 0.02269104\n",
            "Iteration 37, loss = 0.02800248\n",
            "Iteration 38, loss = 0.02956758\n",
            "Iteration 39, loss = 0.03803732\n",
            "Iteration 40, loss = 0.02664893\n",
            "Iteration 41, loss = 0.02241483\n",
            "Iteration 42, loss = 0.02027251\n",
            "Iteration 43, loss = 0.02874726\n",
            "Iteration 44, loss = 0.03639911\n",
            "Iteration 45, loss = 0.03470675\n",
            "Iteration 46, loss = 0.02315192\n",
            "Iteration 47, loss = 0.02274025\n",
            "Iteration 48, loss = 0.02719793\n",
            "Iteration 49, loss = 0.02118976\n",
            "Iteration 50, loss = 0.02318797\n",
            "Iteration 51, loss = 0.02667791\n",
            "Iteration 52, loss = 0.02087368\n",
            "Iteration 53, loss = 0.01989663\n",
            "Iteration 54, loss = 0.02659998\n",
            "Iteration 55, loss = 0.02362667\n",
            "Iteration 56, loss = 0.02939989\n",
            "Iteration 57, loss = 0.02024113\n",
            "Iteration 58, loss = 0.02703866\n",
            "Iteration 59, loss = 0.02204204\n",
            "Iteration 60, loss = 0.02953638\n",
            "Iteration 61, loss = 0.02544594\n",
            "Iteration 62, loss = 0.03022667\n",
            "Iteration 63, loss = 0.01939887\n",
            "Iteration 64, loss = 0.02778915\n",
            "Iteration 65, loss = 0.01964658\n",
            "Iteration 66, loss = 0.01977001\n",
            "Iteration 67, loss = 0.02098076\n",
            "Iteration 68, loss = 0.01842699\n",
            "Iteration 69, loss = 0.02874577\n",
            "Iteration 70, loss = 0.02191339\n",
            "Iteration 71, loss = 0.02076816\n",
            "Iteration 72, loss = 0.02733449\n",
            "Iteration 73, loss = 0.02041030\n",
            "Iteration 74, loss = 0.02324337\n",
            "Iteration 75, loss = 0.03027959\n",
            "Iteration 76, loss = 0.01935154\n",
            "Iteration 77, loss = 0.02436126\n",
            "Iteration 78, loss = 0.02083646\n",
            "Iteration 79, loss = 0.02140781\n",
            "Training loss did not improve more than tol=0.000100 for 10 consecutive epochs. Stopping.\n"
          ]
        },
        {
          "output_type": "execute_result",
          "data": {
            "text/plain": [
              "MLPClassifier(activation='tanh', alpha=0.01, hidden_layer_sizes=(10, 10, 10),\n",
              "              max_iter=100, verbose=True)"
            ]
          },
          "metadata": {},
          "execution_count": 44
        }
      ]
    },
    {
      "cell_type": "code",
      "source": [
        "plot_loss(mlp_2, \n",
        "          font_title=font_dict_title, \n",
        "          font_axis=font_dict_axis, \n",
        "          size=(10,7)) "
      ],
      "metadata": {
        "colab": {
          "base_uri": "https://localhost:8080/",
          "height": 463
        },
        "id": "fJ65IZvUaMD7",
        "outputId": "c268bd3a-282c-45b4-b418-8bc5af0c847f"
      },
      "execution_count": null,
      "outputs": [
        {
          "output_type": "display_data",
          "data": {
            "text/plain": [
              "<Figure size 720x504 with 1 Axes>"
            ],
            "image/png": "[encoded data removed]"
          },
          "metadata": {
            "needs_background": "light"
          }
        }
      ]
    },
    {
      "cell_type": "code",
      "source": [
        "# Validate model\n",
        "predict_train_2 = mlp_2.predict(X_train)\n",
        "predict_test_2 = mlp_2.predict(X_test)\n",
        "\n",
        "# See classification report for train: precision, recall, f1-score, suppor, accuracy, etc.\n",
        "print(classification_report(y_train,predict_train_2))"
      ],
      "metadata": {
        "colab": {
          "base_uri": "https://localhost:8080/"
        },
        "id": "638PMzqtaQE-",
        "outputId": "7f2f35b4-aad2-49a1-ed91-8401c03fb795"
      },
      "execution_count": null,
      "outputs": [
        {
          "output_type": "stream",
          "name": "stdout",
          "text": [
            "              precision    recall  f1-score   support\n",
            "\n",
            "          -1       1.00      1.00      1.00     18539\n",
            "           0       1.00      0.94      0.97     31956\n",
            "           1       0.90      1.00      0.95     15988\n",
            "\n",
            "    accuracy                           0.97     66483\n",
            "   macro avg       0.97      0.98      0.97     66483\n",
            "weighted avg       0.98      0.97      0.97     66483\n",
            "\n"
          ]
        }
      ]
    },
    {
      "cell_type": "code",
      "source": [
        "print(classification_report(y_test,predict_test_2))"
      ],
      "metadata": {
        "colab": {
          "base_uri": "https://localhost:8080/"
        },
        "id": "o-50UjSGan-w",
        "outputId": "4bbb970a-c892-45ee-d131-5ef9799a1217"
      },
      "execution_count": null,
      "outputs": [
        {
          "output_type": "stream",
          "name": "stdout",
          "text": [
            "              precision    recall  f1-score   support\n",
            "\n",
            "          -1       1.00      1.00      1.00      4597\n",
            "           0       1.00      0.94      0.97      7996\n",
            "           1       0.90      1.00      0.95      4028\n",
            "\n",
            "    accuracy                           0.97     16621\n",
            "   macro avg       0.97      0.98      0.97     16621\n",
            "weighted avg       0.98      0.97      0.97     16621\n",
            "\n"
          ]
        }
      ]
    },
    {
      "cell_type": "code",
      "source": [
        "pickle.dump(mlp_2, open(\"/content/drive/MyDrive/model_mlp.pkl\", \"wb\"))"
      ],
      "metadata": {
        "id": "kQSV0gc0ughA"
      },
      "execution_count": null,
      "outputs": []
    }
  ]
}